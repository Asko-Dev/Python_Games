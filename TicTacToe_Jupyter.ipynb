{
 "cells": [
  {
   "cell_type": "code",
   "execution_count": 1,
   "metadata": {},
   "outputs": [],
   "source": [
    "from IPython.display import clear_output\n",
    "\n",
    "def display_board(board):\n",
    "    \n",
    "        clear_output()\n",
    "        print (' ')\n",
    "        print (color.PURPLE+'TIC TAC TOE!'+ color.END)\n",
    "        print (' ')\n",
    "        print (' ')\n",
    "        print ('  '+board[1] +'  |  '+board[2]+'  |  '+board[3])\n",
    "        print ('-----------------')\n",
    "        print ('  '+board[4] +'  |  '+board[5]+'  |  '+board[6])\n",
    "        print ('-----------------')\n",
    "        print ('  '+board[7] +'  |  '+board[8]+'  |  '+board[9])\n",
    "        print (' ')\n",
    "        print (' ')"
   ]
  },
  {
   "cell_type": "code",
   "execution_count": 2,
   "metadata": {},
   "outputs": [],
   "source": [
    "def player_input():\n",
    "    \n",
    "    marker = ''\n",
    "    \n",
    "    while marker != 'O' and marker != 'X':\n",
    "        marker = input(\"Player 1, do you want to be X or O?: \")\n",
    "        marker = marker.upper()\n",
    "      \n",
    "    \n",
    "    player1 = marker\n",
    "    \n",
    "    if player1 == 'X':\n",
    "        player2 = 'O'\n",
    "    else: \n",
    "        player2 ='X'\n",
    "        \n",
    "    return (player1, player2)    "
   ]
  },
  {
   "cell_type": "code",
   "execution_count": 3,
   "metadata": {},
   "outputs": [],
   "source": [
    "def place_marker(board, marker, position):\n",
    "    \n",
    "    if position not in range (1,10):\n",
    "        return 'Your chosen number must be in the range of 1-9'\n",
    "    else:\n",
    "        board[int(position)] = marker"
   ]
  },
  {
   "cell_type": "code",
   "execution_count": 4,
   "metadata": {},
   "outputs": [],
   "source": [
    "def win_check(board, mark):\n",
    "    \n",
    "    if board[1]==board[2]==board[3]==mark:\n",
    "        return True\n",
    "    elif board[4]==board[5]==board[6]==mark:\n",
    "        return True\n",
    "    elif board[7]==board[8]==board[9]==mark:\n",
    "        return True\n",
    "    elif board[1]==board[4]==board[7]==mark:\n",
    "        return True\n",
    "    elif board[2]==board[5]==board[8]==mark:\n",
    "        return True\n",
    "    elif board[3]==board[6]==board[9]==mark:\n",
    "        return True\n",
    "    elif board[1]==board[5]==board[9]==mark:\n",
    "        return True\n",
    "    elif board[3]==board[5]==board[7]==mark:\n",
    "        return True \n",
    "    else:\n",
    "        return False \n",
    "        "
   ]
  },
  {
   "cell_type": "code",
   "execution_count": 5,
   "metadata": {},
   "outputs": [],
   "source": [
    "import random\n",
    "\n",
    "def choose_first():\n",
    "    if random.randint(0,1):\n",
    "        return 'X goes first'\n",
    "    else:\n",
    "        return 'O goes first'"
   ]
  },
  {
   "cell_type": "code",
   "execution_count": 6,
   "metadata": {},
   "outputs": [],
   "source": [
    "def space_check(board, position):\n",
    "    \n",
    "     return board[position] == ' '"
   ]
  },
  {
   "cell_type": "code",
   "execution_count": 7,
   "metadata": {},
   "outputs": [],
   "source": [
    "def full_board_check(board):\n",
    "    \n",
    "    return board.count(' ')==1 "
   ]
  },
  {
   "cell_type": "code",
   "execution_count": 8,
   "metadata": {},
   "outputs": [],
   "source": [
    "def player_choice(board):\n",
    "    \n",
    "    position = ''\n",
    "    \n",
    "    while True:\n",
    "        position = int(input('Pass a number in a range 1-9: '))\n",
    "        if position not in range (1,10):\n",
    "            continue\n",
    "        elif space_check(board, position):\n",
    "            return position\n",
    "        else:\n",
    "            print ('This number has been taken, choose another one')\n",
    "            continue"
   ]
  },
  {
   "cell_type": "code",
   "execution_count": 9,
   "metadata": {},
   "outputs": [],
   "source": [
    "def replay():\n",
    "    \n",
    "    answer= ''\n",
    "    \n",
    "    while answer.lower() != 'yes' and answer.lower() != 'no':\n",
    "        answer = input('Do you want to start the game? Yes or No: ')\n",
    "    \n",
    "    return answer.lower() == 'yes'"
   ]
  },
  {
   "cell_type": "code",
   "execution_count": 10,
   "metadata": {},
   "outputs": [],
   "source": [
    "class color:\n",
    "   PURPLE = '\\033[95m'\n",
    "   CYAN = '\\033[96m'\n",
    "   DARKCYAN = '\\033[36m'\n",
    "   BLUE = '\\033[94m'\n",
    "   GREEN = '\\033[92m'\n",
    "   YELLOW = '\\033[93m'\n",
    "   RED = '\\033[91m'\n",
    "   BOLD = '\\033[1m'\n",
    "   UNDERLINE = '\\033[4m'\n",
    "   END = '\\033[0m'"
   ]
  },
  {
   "cell_type": "code",
   "execution_count": 11,
   "metadata": {},
   "outputs": [
    {
     "name": "stdout",
     "output_type": "stream",
     "text": [
      " \n",
      "\u001b[95mTIC TAC TOE!\u001b[0m\n",
      " \n",
      " \n",
      "  X  |  O  |  X\n",
      "-----------------\n",
      "  X  |  O  |  O\n",
      "-----------------\n",
      "  X  |  X  |  O\n",
      " \n",
      " \n",
      " \n",
      "\u001b[94mCongratulations X you have WON THE GAME!\u001b[0m\n",
      "Do you want to start the game? Yes or No: no\n",
      "\u001b[1mThank you playing the game, see you soon!\u001b[0m\n"
     ]
    }
   ],
   "source": [
    "print(f'{color.PURPLE}Welcome to Tic Tac Toe!{color.END}')\n",
    "\n",
    "    \n",
    "while replay(): \n",
    "    board = [' ']*10\n",
    "    display_board(board)\n",
    "    print(' ')\n",
    "    print(player_input())\n",
    "    print(f'{color.BLUE}Player1, Player2{color.END}')\n",
    "    print(' ')\n",
    "    print(f'{color.BOLD}The randomly selected player to go first: {color.END}')\n",
    "    result = choose_first()\n",
    "    print(result)\n",
    "    if result == 'X goes first':\n",
    "        player1='X'\n",
    "        player2='O'\n",
    "    else: \n",
    "        player1='O'\n",
    "        player2='X'\n",
    "        \n",
    "    while not win_check(board,'X') or not win_check(board,'O'): \n",
    "            \n",
    "                \n",
    "        #Player1\n",
    "        position = player_choice(board)\n",
    "        place_marker(board, player1, position)\n",
    "        display_board(board)\n",
    "            \n",
    "        #Win Check\n",
    "        if win_check(board, player1): \n",
    "            print (' ')\n",
    "            print ( f'{color.BLUE}Congratulations {player1} you have WON THE GAME!{color.END}')\n",
    "            break \n",
    "            \n",
    "        if full_board_check(board):\n",
    "            print (f\"{color.BLUE}Oh wow! It's a TIE! The board is full and you have both won : {color.END}\" )\n",
    "            break\n",
    "                \n",
    "        #Player2\n",
    "        position = player_choice(board)\n",
    "        place_marker(board, player2, position)\n",
    "        display_board(board)\n",
    "            \n",
    "        #Win Check\n",
    "        if win_check(board, player2): \n",
    "            print (' ')\n",
    "            print (f'{color.BLUE} Congratulations {player2} you have WON THE GAME!{color.END}')\n",
    "            break \n",
    "            \n",
    "        if full_board_check(board):\n",
    "            print (f\"{color.BLUE}Oh wow! It's a TIE! The board is full and you have both won :{color.END} \")\n",
    "            break   \n",
    "\n",
    "print (color.BOLD+'Thank you playing the game, see you soon!' + color.END)"
   ]
  },
  {
   "cell_type": "code",
   "execution_count": null,
   "metadata": {},
   "outputs": [],
   "source": []
  }
 ],
 "metadata": {
  "kernelspec": {
   "display_name": "Python 3",
   "language": "python",
   "name": "python3"
  },
  "language_info": {
   "codemirror_mode": {
    "name": "ipython",
    "version": 3
   },
   "file_extension": ".py",
   "mimetype": "text/x-python",
   "name": "python",
   "nbconvert_exporter": "python",
   "pygments_lexer": "ipython3",
   "version": "3.7.4"
  }
 },
 "nbformat": 4,
 "nbformat_minor": 1
}
